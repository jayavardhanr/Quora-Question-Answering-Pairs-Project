{
 "cells": [
  {
   "cell_type": "code",
   "execution_count": 49,
   "metadata": {
    "collapsed": true
   },
   "outputs": [],
   "source": [
    "#Siamese Architecture_Simple_LSTM\n",
    "#keras_1.1.2_theano_backend"
   ]
  },
  {
   "cell_type": "code",
   "execution_count": 1,
   "metadata": {},
   "outputs": [
    {
     "name": "stderr",
     "output_type": "stream",
     "text": [
      "Using Theano backend.\n"
     ]
    }
   ],
   "source": [
    "import os\n",
    "\n",
    "with open(os.path.expanduser('~')+'/.keras/keras.json','w') as f:\n",
    "    new_settings = \"\"\"{\\r\\n\n",
    "    \"epsilon\": 1e-07,\\r\\n\n",
    "    \"image_data_format\": \"channels_last\",\\n\n",
    "    \"backend\": \"theano\",\\r\\n\n",
    "    \"floatx\": \"float32\"\\r\\n\n",
    "    }\"\"\"\n",
    "    f.write(new_settings)\n",
    "\n",
    "import keras"
   ]
  },
  {
   "cell_type": "code",
   "execution_count": 2,
   "metadata": {
    "collapsed": true
   },
   "outputs": [],
   "source": [
    "import pandas as pd\n",
    "import nltk\n",
    "import numpy as np"
   ]
  },
  {
   "cell_type": "code",
   "execution_count": 3,
   "metadata": {
    "collapsed": true
   },
   "outputs": [],
   "source": [
    "#WordVectors"
   ]
  },
  {
   "cell_type": "code",
   "execution_count": 4,
   "metadata": {
    "collapsed": true
   },
   "outputs": [],
   "source": [
    "import gensim\n",
    "# Load Google's pre-trained Word2Vec model.\n",
    "model = gensim.models.KeyedVectors.load_word2vec_format('GoogleNews-vectors-negative300.bin', binary=True)  "
   ]
  },
  {
   "cell_type": "code",
   "execution_count": 5,
   "metadata": {
    "collapsed": true
   },
   "outputs": [],
   "source": [
    "train_DF=pd.read_csv('train.csv',index_col='id')"
   ]
  },
  {
   "cell_type": "code",
   "execution_count": 6,
   "metadata": {
    "collapsed": true
   },
   "outputs": [],
   "source": [
    "train_DF.reset_index(drop=True,inplace=True)\n",
    "train_DF['question1'] = train_DF['question1'].astype(str)\n",
    "train_DF['question2'] = train_DF['question2'].astype(str)"
   ]
  },
  {
   "cell_type": "code",
   "execution_count": 27,
   "metadata": {
    "collapsed": true
   },
   "outputs": [],
   "source": [
    "import re\n",
    "numbers=re.compile(r'(\\d+\\.\\d+|\\d+)')\n",
    "def cleanText(text):\n",
    "    return numbers.sub('N',text)"
   ]
  },
  {
   "cell_type": "code",
   "execution_count": 28,
   "metadata": {},
   "outputs": [],
   "source": [
    "texts = []\n",
    "questions1=[]\n",
    "questions2=[]\n",
    "duplicates=[]\n",
    "\n",
    "for idx in range(train_DF.question1.shape[0]):\n",
    "    text=train_DF.question1[idx]\n",
    "    text=cleanText(text)\n",
    "    texts.append(text)\n",
    "    words = text_to_word_sequence(text)\n",
    "    questions1.append(words)\n",
    "    \n",
    "    text=train_DF.question2[idx]\n",
    "    text=cleanText(text)\n",
    "    texts.append(text)\n",
    "    words = text_to_word_sequence(text)\n",
    "    questions2.append(words)\n",
    "    \n",
    "    duplicates.append(train_DF.is_duplicate[idx])"
   ]
  },
  {
   "cell_type": "code",
   "execution_count": 29,
   "metadata": {
    "collapsed": true
   },
   "outputs": [],
   "source": [
    "from keras.preprocessing.text import Tokenizer, text_to_word_sequence\n",
    "from keras.preprocessing.sequence import pad_sequences\n",
    "from keras.utils.np_utils import to_categorical\n",
    "\n",
    "from keras.layers import Embedding\n",
    "from keras.layers import Dense, Input, Flatten,merge\n",
    "from keras.layers import Conv1D, MaxPooling1D, Embedding, Merge, Dropout, LSTM, GRU, Bidirectional, TimeDistributed\n",
    "from keras.models import Model"
   ]
  },
  {
   "cell_type": "code",
   "execution_count": 47,
   "metadata": {
    "collapsed": true
   },
   "outputs": [],
   "source": [
    "MAX_NB_WORDS = 40000\n",
    "VALIDATION_SPLIT = 0.2"
   ]
  },
  {
   "cell_type": "code",
   "execution_count": 30,
   "metadata": {},
   "outputs": [
    {
     "name": "stdout",
     "output_type": "stream",
     "text": [
      "Total 90278 unique tokens.\n"
     ]
    }
   ],
   "source": [
    "tokenizer = Tokenizer()\n",
    "tokenizer.fit_on_texts(texts)\n",
    "word_index = tokenizer.word_index\n",
    "print('Total %s unique tokens.' % len(word_index))"
   ]
  },
  {
   "cell_type": "code",
   "execution_count": 31,
   "metadata": {
    "collapsed": true
   },
   "outputs": [],
   "source": [
    "vocab_dim = 300 # dimensionality of your word vectors\n",
    "n_symbols = len(word_index) + 1 # adding 1 to account for 0th index (for masking)\n",
    "embedding_weights = np.random.random((n_symbols,vocab_dim))\n",
    "for word,index in word_index.items():\n",
    "    if word in model.wv.vocab:\n",
    "        embedding_weights[index] = model.word_vec(word)       "
   ]
  },
  {
   "cell_type": "code",
   "execution_count": 32,
   "metadata": {},
   "outputs": [
    {
     "data": {
      "text/plain": [
       "(90279, 300)"
      ]
     },
     "execution_count": 32,
     "metadata": {},
     "output_type": "execute_result"
    }
   ],
   "source": [
    "embedding_weights.shape"
   ]
  },
  {
   "cell_type": "code",
   "execution_count": 33,
   "metadata": {
    "collapsed": true
   },
   "outputs": [],
   "source": [
    "MAX_SENT_LENGTH = 250"
   ]
  },
  {
   "cell_type": "code",
   "execution_count": 34,
   "metadata": {},
   "outputs": [
    {
     "data": {
      "text/plain": [
       "['what', 'is', 'the', 'story', 'of', 'kohinoor', 'koh', 'i', 'noor', 'diamond']"
      ]
     },
     "execution_count": 34,
     "metadata": {},
     "output_type": "execute_result"
    }
   ],
   "source": [
    "questions1[1]"
   ]
  },
  {
   "cell_type": "code",
   "execution_count": 35,
   "metadata": {},
   "outputs": [],
   "source": [
    "data_question1 = np.zeros((len(questions1), MAX_SENT_LENGTH), dtype='int32')\n",
    "for i, sentence in enumerate(questions1):\n",
    "    for j, word in enumerate(sentence):\n",
    "        if j<=MAX_SENT_LENGTH:\n",
    "            data_question1[i,j] = tokenizer.word_index[word]"
   ]
  },
  {
   "cell_type": "code",
   "execution_count": 36,
   "metadata": {
    "collapsed": true
   },
   "outputs": [],
   "source": [
    "data_question2 = np.zeros((len(questions2), MAX_SENT_LENGTH), dtype='int32')\n",
    "for i, sentence in enumerate(questions2):\n",
    "    for j, word in enumerate(sentence):\n",
    "        if j<=MAX_SENT_LENGTH:\n",
    "            data_question2[i,j] = tokenizer.word_index[word]"
   ]
  },
  {
   "cell_type": "code",
   "execution_count": 37,
   "metadata": {
    "collapsed": true
   },
   "outputs": [],
   "source": [
    "embedding_layer=Embedding(input_dim=len(word_index)+1,output_dim=vocab_dim,weights=[embedding_weights],\n",
    "                          input_length=MAX_SENT_LENGTH,trainable=True)"
   ]
  },
  {
   "cell_type": "code",
   "execution_count": 38,
   "metadata": {
    "collapsed": true
   },
   "outputs": [],
   "source": [
    "data_question1_1000_train=data_question1[1000:2000]\n",
    "data_question2_1000_train=data_question1[1000:2000]\n",
    "duplicates_1000_train=duplicates[1000:2000]"
   ]
  },
  {
   "cell_type": "code",
   "execution_count": 39,
   "metadata": {
    "collapsed": true
   },
   "outputs": [],
   "source": [
    "data_question1_1000_vali=data_question1[2000:3000]\n",
    "data_question2_1000_vali=data_question1[2000:3000]\n",
    "duplicates_1000_vali=duplicates[2000:3000]"
   ]
  },
  {
   "cell_type": "code",
   "execution_count": 40,
   "metadata": {
    "collapsed": true
   },
   "outputs": [],
   "source": [
    "data_question1_1000_test=data_question1[:1000]\n",
    "data_question2_1000_test=data_question1[:1000]\n",
    "duplicates_1000_test=duplicates[:1000]"
   ]
  },
  {
   "cell_type": "code",
   "execution_count": 41,
   "metadata": {
    "collapsed": true
   },
   "outputs": [],
   "source": [
    "from keras.layers import Input, Conv2D, Lambda, merge, Dense, Flatten,MaxPooling2D\n",
    "from keras.models import Model, Sequential\n",
    "from keras.regularizers import l2\n",
    "from keras import backend as K\n",
    "from keras.optimizers import SGD,Adam\n",
    "import numpy.random as rng\n",
    "import numpy as np\n",
    "import os\n",
    "import dill as pickle\n",
    "import matplotlib.pyplot as plt\n",
    "from sklearn.utils import shuffle"
   ]
  },
  {
   "cell_type": "code",
   "execution_count": 44,
   "metadata": {},
   "outputs": [
    {
     "name": "stdout",
     "output_type": "stream",
     "text": [
      "model - Siamese Networks\n",
      "____________________________________________________________________________________________________\n",
      "Layer (type)                     Output Shape          Param #     Connected to                     \n",
      "====================================================================================================\n",
      "input_1 (InputLayer)             (None, 250)           0                                            \n",
      "____________________________________________________________________________________________________\n",
      "input_2 (InputLayer)             (None, 250)           0                                            \n",
      "____________________________________________________________________________________________________\n",
      "embedding_1 (Embedding)          (None, 250, 300)      27083700    input_1[0][0]                    \n",
      "                                                                   input_2[0][0]                    \n",
      "____________________________________________________________________________________________________\n",
      "bidirectional_1 (Bidirectional)  (None, 600)           1442400     embedding_1[0][0]                \n",
      "____________________________________________________________________________________________________\n",
      "bidirectional_2 (Bidirectional)  (None, 600)           1442400     embedding_1[1][0]                \n",
      "____________________________________________________________________________________________________\n",
      "merge_1 (Merge)                  (None, 600)           0           bidirectional_1[0][0]            \n",
      "                                                                   bidirectional_2[0][0]            \n",
      "____________________________________________________________________________________________________\n",
      "dense_1 (Dense)                  (None, 1)             601         merge_1[0][0]                    \n",
      "====================================================================================================\n",
      "Total params: 29969101\n",
      "____________________________________________________________________________________________________\n",
      "None\n"
     ]
    }
   ],
   "source": [
    "#Input for each Question\n",
    "left_question_input = Input(shape=(MAX_SENT_LENGTH,), dtype='int32')\n",
    "right_question_input = Input(shape=(MAX_SENT_LENGTH,), dtype='int32')\n",
    "\n",
    "#Encoders at Question Level\n",
    "embedded_sequences = embedding_layer(left_question_input)\n",
    "left_lstm_sent = Bidirectional(LSTM(300))(embedded_sequences)\n",
    "\n",
    "embedded_sequences = embedding_layer(right_question_input)\n",
    "right_lstm_sent = Bidirectional(LSTM(300))(embedded_sequences)\n",
    "\n",
    "#merge two encoded inputs with the l1 distance between them\n",
    "L1_distance = lambda x: K.abs(x[0]-x[1])\n",
    "both = merge([left_lstm_sent,right_lstm_sent], mode = L1_distance, output_shape=lambda x: x[0])\n",
    "prediction = Dense(1,activation='sigmoid')(both)\n",
    "\n",
    "siamese_net = Model(input=[left_question_input,right_question_input],output=prediction)\n",
    "optimizer = Adam(0.00006)\n",
    "siamese_net.compile(loss=\"binary_crossentropy\",optimizer=optimizer)\n",
    "\n",
    "siamese_net.count_params()\n",
    "\n",
    "print(\"model - Siamese Networks\")\n",
    "print(siamese_net.summary())"
   ]
  },
  {
   "cell_type": "code",
   "execution_count": 45,
   "metadata": {
    "collapsed": true
   },
   "outputs": [],
   "source": [
    "#data_question2_1000_train.shape\n",
    "duplicates_1000_train=np.array(duplicates_1000_train).reshape(1000,1)\n",
    "duplicates_1000_vali=np.array(duplicates_1000_vali).reshape(1000,1)"
   ]
  },
  {
   "cell_type": "code",
   "execution_count": 46,
   "metadata": {
    "scrolled": true
   },
   "outputs": [
    {
     "name": "stdout",
     "output_type": "stream",
     "text": [
      "Train on 1000 samples, validate on 1000 samples\n",
      "Epoch 1/10\n",
      "1000/1000 [==============================] - 122s - loss: 0.6532 - val_loss: 0.6711\n",
      "Epoch 2/10\n",
      "1000/1000 [==============================] - 123s - loss: 0.6323 - val_loss: 0.6615\n",
      "Epoch 3/10\n",
      "1000/1000 [==============================] - 121s - loss: 0.6236 - val_loss: 0.6573\n",
      "Epoch 4/10\n",
      "1000/1000 [==============================] - 122s - loss: 0.6206 - val_loss: 0.6562\n",
      "Epoch 5/10\n",
      "1000/1000 [==============================] - 122s - loss: 0.6178 - val_loss: 0.6571\n",
      "Epoch 6/10\n",
      "1000/1000 [==============================] - 121s - loss: 0.6108 - val_loss: 0.6557\n",
      "Epoch 7/10\n",
      "1000/1000 [==============================] - 122s - loss: 0.6082 - val_loss: 0.6694\n",
      "Epoch 8/10\n",
      "1000/1000 [==============================] - 127s - loss: 0.6166 - val_loss: 0.6508\n",
      "Epoch 9/10\n",
      "1000/1000 [==============================] - 132s - loss: 0.6098 - val_loss: 0.6594\n",
      "Epoch 10/10\n",
      "1000/1000 [==============================] - 143s - loss: 0.6026 - val_loss: 0.6543\n"
     ]
    },
    {
     "data": {
      "text/plain": [
       "<keras.callbacks.History at 0x2b885c978>"
      ]
     },
     "execution_count": 46,
     "metadata": {},
     "output_type": "execute_result"
    }
   ],
   "source": [
    "siamese_net.fit([data_question1_1000_train,data_question2_1000_train], duplicates_1000_train,\n",
    "                validation_data=([data_question1_1000_vali,data_question2_1000_vali],duplicates_1000_vali)\n",
    "                                  ,nb_epoch=10, batch_size=50)"
   ]
  },
  {
   "cell_type": "code",
   "execution_count": null,
   "metadata": {
    "collapsed": true
   },
   "outputs": [],
   "source": []
  }
 ],
 "metadata": {
  "kernelspec": {
   "display_name": "Python 3",
   "language": "python",
   "name": "python3"
  },
  "language_info": {
   "codemirror_mode": {
    "name": "ipython",
    "version": 3
   },
   "file_extension": ".py",
   "mimetype": "text/x-python",
   "name": "python",
   "nbconvert_exporter": "python",
   "pygments_lexer": "ipython3",
   "version": "3.5.4"
  }
 },
 "nbformat": 4,
 "nbformat_minor": 2
}
